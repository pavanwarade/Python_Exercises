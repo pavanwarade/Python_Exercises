{
 "cells": [
  {
   "cell_type": "code",
   "execution_count": null,
   "metadata": {
    "collapsed": true
   },
   "outputs": [],
   "source": [
    "from chatterbot import ChatBot\n",
    "from chatterbot.trainers import ListTrainer\n",
    "import os\n",
    "\n",
    "bot=ChatBot('bot')\n",
    "bot.set_trainer(ListTrainer)\n",
    "\n",
    "for files in os.listdir(r'I:\\NareshIT\\Python_Projects\\Chatter_Bots\\chatterbot-corpus-master\\chatterbot_corpus\\data\\english'):\n",
    "    data=open(r'I:\\NareshIT\\Python_Projects\\Chatter_Bots\\chatterbot-corpus-master\\chatterbot_corpus\\data\\english'+files,'r').readlines()\n",
    "    bot.train(data)\n",
    "\n",
    "while True:\n",
    "    message=input('You: ')\n",
    "    if message.strip() != 'Bye':\n",
    "        reply=bot.get_response(message)\n",
    "        print('ChatBot :',reply)\n",
    "    if message.strip() == 'Bye':\n",
    "        print('ChatBot= Bye')\n",
    "        break "
   ]
  },
  {
   "cell_type": "code",
   "execution_count": null,
   "metadata": {
    "collapsed": true
   },
   "outputs": [],
   "source": []
  }
 ],
 "metadata": {
  "kernelspec": {
   "display_name": "Python 3",
   "language": "python",
   "name": "python3"
  },
  "language_info": {
   "codemirror_mode": {
    "name": "ipython",
    "version": 3
   },
   "file_extension": ".py",
   "mimetype": "text/x-python",
   "name": "python",
   "nbconvert_exporter": "python",
   "pygments_lexer": "ipython3",
   "version": "3.6.3"
  }
 },
 "nbformat": 4,
 "nbformat_minor": 2
}
